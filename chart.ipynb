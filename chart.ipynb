{
 "cells": [
  {
   "cell_type": "markdown",
   "metadata": {},
   "source": [
    "Auth here"
   ]
  },
  {
   "cell_type": "markdown",
   "metadata": {},
   "source": [
    "### Fetch all problems and set solved dates"
   ]
  },
  {
   "cell_type": "code",
   "execution_count": null,
   "metadata": {},
   "outputs": [],
   "source": [
    "from calls import get_problems\n",
    "problems = await get_problems()"
   ]
  },
  {
   "cell_type": "markdown",
   "metadata": {},
   "source": [
    "### Retrive solved dates and sort"
   ]
  },
  {
   "cell_type": "code",
   "execution_count": 5,
   "metadata": {},
   "outputs": [],
   "source": [
    "solved_dates = [problem.solved_date for problem in problems if problem.solved_date]\n",
    "\n",
    "# Sort dates\n",
    "solved_dates.sort()\n",
    "\n",
    "# Create cumulative count\n",
    "cumulative_counts = list(range(1, len(solved_dates) + 1))"
   ]
  },
  {
   "cell_type": "markdown",
   "metadata": {},
   "source": [
    "### Chart number of problems over time"
   ]
  },
  {
   "cell_type": "code",
   "execution_count": null,
   "metadata": {},
   "outputs": [],
   "source": [
    "import matplotlib.pyplot as plt\n",
    "from datetime import datetime\n",
    "# set date range\n",
    "start_date = None # example: datetime(2024, 1, 1)\n",
    "end_date = None # example: datetime(2025, 1, 1)\n",
    "\n",
    "# default dates\n",
    "if not start_date: start_date = solved_dates[0]\n",
    "if not end_date: end_date = datetime.now()\n",
    "\n",
    "plt.figure(figsize=(12, 6))\n",
    "plt.plot(solved_dates, cumulative_counts, '-b', drawstyle='steps-post')\n",
    "plt.title('LeetCode Over Time')\n",
    "plt.xlabel('Date')\n",
    "plt.ylabel('Number of Problems Solved')\n",
    "plt.grid(True)\n",
    "plt.xlim(start_date, end_date)\n",
    "\n",
    "plt.xticks(rotation=45)"
   ]
  }
 ],
 "metadata": {
  "kernelspec": {
   "display_name": ".venv",
   "language": "python",
   "name": "python3"
  },
  "language_info": {
   "codemirror_mode": {
    "name": "ipython",
    "version": 3
   },
   "file_extension": ".py",
   "mimetype": "text/x-python",
   "name": "python",
   "nbconvert_exporter": "python",
   "pygments_lexer": "ipython3",
   "version": "3.9.6"
  }
 },
 "nbformat": 4,
 "nbformat_minor": 2
}
